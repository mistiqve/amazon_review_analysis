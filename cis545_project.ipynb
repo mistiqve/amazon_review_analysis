{
 "cells": [
  {
   "cell_type": "markdown",
   "metadata": {
    "colab_type": "text",
    "id": "Pvaq6gbbGqiz"
   },
   "source": [
    "# CIS 545 Project\n",
    "\n",
    " ** Yixue Wendy Feng**\n"
   ]
  },
  {
   "cell_type": "markdown",
   "metadata": {
    "colab_type": "text",
    "id": "NIE8uOsrGuoL"
   },
   "source": [
    "## Import and Data loading"
   ]
  },
  {
   "cell_type": "code",
   "execution_count": 1,
   "metadata": {
    "colab": {},
    "colab_type": "code",
    "id": "0T7JvxP1GnIl"
   },
   "outputs": [],
   "source": [
    "%%capture\n",
    "!pip install -U gensim\n",
    "!pip install urllib2\n",
    "!pip install wordcloud"
   ]
  },
  {
   "cell_type": "code",
   "execution_count": 2,
   "metadata": {
    "colab": {
     "base_uri": "https://localhost:8080/",
     "height": 34
    },
    "colab_type": "code",
    "executionInfo": {
     "elapsed": 13102,
     "status": "ok",
     "timestamp": 1575783454200,
     "user": {
      "displayName": "Yixue Wendy Feng",
      "photoUrl": "",
      "userId": "16498004317624563487"
     },
     "user_tz": 300
    },
    "id": "EEqfpT6iG1_4",
    "outputId": "4c637932-c9fe-4f90-ee25-d9e199ebb670"
   },
   "outputs": [
    {
     "data": {
      "text/plain": [
       "'3.8.1'"
      ]
     },
     "execution_count": 2,
     "metadata": {},
     "output_type": "execute_result"
    }
   ],
   "source": [
    "# check gensim version\n",
    "import gensim\n",
    "gensim.__version__"
   ]
  },
  {
   "cell_type": "code",
   "execution_count": 133,
   "metadata": {
    "colab": {},
    "colab_type": "code",
    "id": "U70tprQbG4OY"
   },
   "outputs": [],
   "source": [
    "# import stuff\n",
    "import numpy as np\n",
    "import pandas as pd\n",
    "import matplotlib.pyplot as plt\n",
    "import matplotlib.cm as cm\n",
    "import seaborn as sns\n",
    "from collections import Counter\n",
    "\n",
    "from gensim import corpora\n",
    "from gensim.models import LsiModel, KeyedVectors\n",
    "from gensim.models.tfidfmodel import TfidfModel\n",
    "from gensim.models.nmf import Nmf\n",
    "from gensim.matutils import corpus2dense\n",
    "\n",
    "import sklearn.model_selection as ms\n",
    "from sklearn.ensemble import RandomForestClassifier\n",
    "from sklearn.cluster import KMeans\n",
    "from sklearn.manifold import TSNE\n",
    "\n",
    "from datetime import *\n",
    "from operator import itemgetter"
   ]
  },
  {
   "cell_type": "code",
   "execution_count": 0,
   "metadata": {
    "colab": {},
    "colab_type": "code",
    "id": "5A-iwKGSG5__"
   },
   "outputs": [],
   "source": [
    "%%capture\n",
    "!wget https://cis.upenn.edu/~cis545/data/reviews.dict\n",
    "!wget https://cis.upenn.edu/~cis545/data/train_reviews.mm\n",
    "!wget https://cis.upenn.edu/~cis545/data/train_times.npy"
   ]
  },
  {
   "cell_type": "code",
   "execution_count": 4,
   "metadata": {
    "colab": {
     "base_uri": "https://localhost:8080/",
     "height": 71
    },
    "colab_type": "code",
    "executionInfo": {
     "elapsed": 13542,
     "status": "ok",
     "timestamp": 1575783502496,
     "user": {
      "displayName": "Yixue Wendy Feng",
      "photoUrl": "",
      "userId": "16498004317624563487"
     },
     "user_tz": 300
    },
    "id": "cSsUkeo8G7cQ",
    "outputId": "225b3d58-8780-4748-bffa-cf4372ae978e"
   },
   "outputs": [],
   "source": [
    "reviews_dict = corpora.Dictionary.load(\"reviews.dict\")\n",
    "reviews_bow = corpora.MmCorpus('train_reviews.mm')\n",
    "reviews_times  = np.load('train_times.npy')\n",
    "reviews_times.shape = (len(reviews_bow),1)\n",
    "ratings = np.vstack((np.repeat(1, 4000), np.repeat(2, 4000), np.repeat(3, 4000), np.repeat(4, 4000), np.repeat(5, 4000)))\n",
    "ratings = np.repeat(ratings, 5)"
   ]
  },
  {
   "cell_type": "markdown",
   "metadata": {
    "colab_type": "text",
    "id": "c6EruTnrKpGC"
   },
   "source": [
    "## Exploring Gensim Format\n",
    "\n",
    "This section includes helper functions that help us better understand and represent the given data. Most of these are from homework 4."
   ]
  },
  {
   "cell_type": "code",
   "execution_count": 5,
   "metadata": {
    "colab": {
     "base_uri": "https://localhost:8080/",
     "height": 51
    },
    "colab_type": "code",
    "executionInfo": {
     "elapsed": 1251,
     "status": "ok",
     "timestamp": 1575783510787,
     "user": {
      "displayName": "Yixue Wendy Feng",
      "photoUrl": "",
      "userId": "16498004317624563487"
     },
     "user_tz": 300
    },
    "id": "E5ZrWOvGJvQ6",
    "outputId": "d54da654-2b63-4045-9f28-e3fd8c0b7b76"
   },
   "outputs": [
    {
     "name": "stdout",
     "output_type": "stream",
     "text": [
      "certain\n",
      "10\n"
     ]
    }
   ],
   "source": [
    "# Get word from reviews_dict by index \n",
    "print(reviews_dict[10])\n",
    "# Get index from reviews_dict by word\n",
    "print(reviews_dict.token2id['certain'])"
   ]
  },
  {
   "cell_type": "code",
   "execution_count": 6,
   "metadata": {
    "colab": {
     "base_uri": "https://localhost:8080/",
     "height": 88
    },
    "colab_type": "code",
    "executionInfo": {
     "elapsed": 2424,
     "status": "ok",
     "timestamp": 1575783513826,
     "user": {
      "displayName": "Yixue Wendy Feng",
      "photoUrl": "",
      "userId": "16498004317624563487"
     },
     "user_tz": 300
    },
    "id": "CjE-ik8qK_dr",
    "outputId": "f0706e16-345a-492e-887c-b4a9a92cc2ff"
   },
   "outputs": [
    {
     "name": "stdout",
     "output_type": "stream",
     "text": [
      "[(0, 1.0), (1, 1.0), (2, 1.0), (3, 2.0), (4, 1.0), (5, 1.0), (6, 5.0), (7, 1.0), (8, 1.0), (9, 1.0), (10, 1.0), (11, 1.0), (12, 3.0), (13, 1.0), (14, 2.0), (15, 1.0), (16, 1.0), (17, 1.0), (18, 1.0), (19, 1.0), (20, 1.0), (21, 1.0), (22, 1.0), (23, 1.0), (24, 4.0), (25, 1.0), (26, 2.0), (27, 1.0), (28, 1.0), (29, 2.0), (30, 1.0), (31, 1.0), (32, 1.0), (33, 1.0), (34, 1.0), (35, 1.0), (36, 1.0), (37, 1.0), (38, 1.0), (39, 1.0), (40, 1.0), (41, 1.0), (42, 1.0), (43, 1.0), (44, 2.0), (45, 1.0), (46, 2.0), (47, 1.0), (48, 1.0), (49, 1.0), (50, 1.0), (51, 1.0), (52, 1.0), (53, 1.0), (54, 1.0), (55, 2.0)]\n"
     ]
    }
   ],
   "source": [
    "# Get reviews in BOW from reviews_bow by list of indices\n",
    "def lookup_reviews(corpus, indices):\n",
    "    return [doc for i,doc in enumerate(corpus) if i in indices]\n",
    "\n",
    "docs = lookup_reviews(reviews_bow, [0,1])\n",
    "print(docs[0])"
   ]
  },
  {
   "cell_type": "code",
   "execution_count": 7,
   "metadata": {
    "colab": {
     "base_uri": "https://localhost:8080/",
     "height": 54
    },
    "colab_type": "code",
    "executionInfo": {
     "elapsed": 1425,
     "status": "ok",
     "timestamp": 1575783515401,
     "user": {
      "displayName": "Yixue Wendy Feng",
      "photoUrl": "",
      "userId": "16498004317624563487"
     },
     "user_tz": 300
    },
    "id": "l8vhl4JyLZLc",
    "outputId": "38a635d7-7f14-4004-9d08-ac72f1a16032"
   },
   "outputs": [
    {
     "name": "stdout",
     "output_type": "stream",
     "text": [
      "abl aggress also apart apart aussi away ball ball ball ball ball better cairn came certain chewer come come come design destroy destroy disappoint expos fast favorit good great hard insid just kong kong kong kong larg lb lb let littl medium medium mix money much open orka play remov roll seam short someth sorri sort squeak squeez squeez supervis terrier terrier think took tore toy tri usual wast weigh will will\n"
     ]
    }
   ],
   "source": [
    "# Translate reviews in reviews_bow using reviews_dict\n",
    "def translate_review(review, reviews_dict):\n",
    "    words = []\n",
    "    for (ind, count) in review:\n",
    "        word = dict(reviews_dict)[ind]\n",
    "        for i in range(int(count)):\n",
    "            words.append(word)\n",
    "    return ' '.join(words)\n",
    "\n",
    "print(translate_review(docs[0], reviews_dict))"
   ]
  },
  {
   "cell_type": "code",
   "execution_count": 8,
   "metadata": {
    "colab": {
     "base_uri": "https://localhost:8080/",
     "height": 34
    },
    "colab_type": "code",
    "executionInfo": {
     "elapsed": 1479,
     "status": "ok",
     "timestamp": 1575783517169,
     "user": {
      "displayName": "Yixue Wendy Feng",
      "photoUrl": "",
      "userId": "16498004317624563487"
     },
     "user_tz": 300
    },
    "id": "PIaSAoQ3Nnxq",
    "outputId": "41da623e-5d88-4210-b591-14db803faed4"
   },
   "outputs": [
    {
     "name": "stdout",
     "output_type": "stream",
     "text": [
      "2012-05-05 20:00:00 <class 'pandas._libs.tslibs.timestamps.Timestamp'>\n"
     ]
    }
   ],
   "source": [
    "# Convert to pandas Timestamp\n",
    "def convert_times(reviews_times):\n",
    "    s = pd.Series(reviews_times.reshape(-1))\n",
    "    return s.apply(lambda x: datetime.fromtimestamp(x))\n",
    "\n",
    "converted_times = convert_times(reviews_times)\n",
    "print(converted_times[0], type(converted_times[0]))"
   ]
  },
  {
   "cell_type": "code",
   "execution_count": 9,
   "metadata": {
    "colab": {
     "base_uri": "https://localhost:8080/",
     "height": 34
    },
    "colab_type": "code",
    "executionInfo": {
     "elapsed": 337,
     "status": "ok",
     "timestamp": 1575783517407,
     "user": {
      "displayName": "Yixue Wendy Feng",
      "photoUrl": "",
      "userId": "16498004317624563487"
     },
     "user_tz": 300
    },
    "id": "pB9cCyowN-GT",
    "outputId": "74931a57-6cee-49b4-a49c-bbb351acab39"
   },
   "outputs": [
    {
     "name": "stdout",
     "output_type": "stream",
     "text": [
      "2012 5 5\n"
     ]
    }
   ],
   "source": [
    "# Getting year, month, day from time\n",
    "date = converted_times[0]\n",
    "print(date.year, date.month, date.day)"
   ]
  },
  {
   "cell_type": "markdown",
   "metadata": {
    "colab_type": "text",
    "id": "m8XDe0lP_9fK"
   },
   "source": [
    "## Exploring Data"
   ]
  },
  {
   "cell_type": "markdown",
   "metadata": {},
   "source": [
    "### Some Fun Stuff"
   ]
  },
  {
   "cell_type": "markdown",
   "metadata": {},
   "source": [
    "Let's first use wordcloud to visualize some reviews. Since we don't have the reviews sentences, it could be helpful to use wordcloud to visualize the what the reviews are about."
   ]
  },
  {
   "cell_type": "code",
   "execution_count": 195,
   "metadata": {},
   "outputs": [],
   "source": [
    "## Get some 1-star reviews\n",
    "bad_docs = lookup_reviews(reviews_bow, range(0,100))\n",
    "bad_reviews = \"\"\n",
    "for i in bad_docs:\n",
    "    bad_reviews += translate_review(i, reviews_dict)"
   ]
  },
  {
   "cell_type": "code",
   "execution_count": 196,
   "metadata": {},
   "outputs": [],
   "source": [
    "## Get some 5-star reviews\n",
    "good_docs = lookup_reviews(reviews_bow, range(90000,90100))\n",
    "good_reviews = \"\"\n",
    "for i in good_docs:\n",
    "    good_reviews += translate_review(i, reviews_dict)"
   ]
  },
  {
   "cell_type": "code",
   "execution_count": 198,
   "metadata": {},
   "outputs": [
    {
     "name": "stdout",
     "output_type": "stream",
     "text": [
      "Bad reviews:\n"
     ]
    },
    {
     "data": {
      "image/png": "[encoded data removed]",
      "text/plain": [
       "<Figure size 576x720 with 1 Axes>"
      ]
     },
     "metadata": {},
     "output_type": "display_data"
    },
    {
     "name": "stdout",
     "output_type": "stream",
     "text": [
      "Good reviews: \n"
     ]
    },
    {
     "data": {
      "image/png": "[encoded data removed]",
      "text/plain": [
       "<Figure size 576x720 with 1 Axes>"
      ]
     },
     "metadata": {},
     "output_type": "display_data"
    }
   ],
   "source": [
    "from wordcloud import WordCloud\n",
    "\n",
    "def show_wordcloud(data, title = None):\n",
    "    wordcloud = WordCloud(\n",
    "        background_color = 'white',\n",
    "        max_words = 200,\n",
    "        max_font_size = 40, \n",
    "        scale = 3,\n",
    "        random_state = 42\n",
    "    ).generate(str(data))\n",
    "\n",
    "    fig = plt.figure(1, figsize = (8, 10))\n",
    "    plt.axis('off')\n",
    "    if title: \n",
    "        fig.suptitle(title, fontsize = 20)\n",
    "        fig.subplots_adjust(top = 2.3)\n",
    "\n",
    "    plt.imshow(wordcloud)\n",
    "    plt.show()\n",
    "    \n",
    "# print wordcloud\n",
    "print(\"Bad reviews:\")\n",
    "show_wordcloud(bad_reviews)\n",
    "print(\"Good reviews: \")\n",
    "show_wordcloud(good_reviews)"
   ]
  },
  {
   "cell_type": "markdown",
   "metadata": {},
   "source": [
    "The quality of the products in the reviews is not really reflected in the wordcloud (as fun as they are). Now let's do more analysis!"
   ]
  },
  {
   "cell_type": "markdown",
   "metadata": {
    "colab_type": "text",
    "id": "y6HkKgVByYcB"
   },
   "source": [
    "### TFIDF Representation"
   ]
  },
  {
   "cell_type": "code",
   "execution_count": 10,
   "metadata": {
    "colab": {},
    "colab_type": "code",
    "id": "GSEZT5gGyanH"
   },
   "outputs": [],
   "source": [
    "def make_tfidf(reviews_bow):\n",
    "    model = TfidfModel(reviews_bow)\n",
    "    corpus_tfidf = model[reviews_bow]\n",
    "    return corpus_tfidf"
   ]
  },
  {
   "cell_type": "code",
   "execution_count": 11,
   "metadata": {
    "colab": {
     "base_uri": "https://localhost:8080/",
     "height": 88
    },
    "colab_type": "code",
    "executionInfo": {
     "elapsed": 10909,
     "status": "ok",
     "timestamp": 1575783531674,
     "user": {
      "displayName": "Yixue Wendy Feng",
      "photoUrl": "",
      "userId": "16498004317624563487"
     },
     "user_tz": 300
    },
    "id": "x_lVIkhl_9fN",
    "outputId": "64c7e811-82f4-4dff-a95f-966deb7832fb"
   },
   "outputs": [
    {
     "name": "stdout",
     "output_type": "stream",
     "text": [
      "[[(0, 0.0660034180373639), (1, 0.12360093748348407), (2, 0.0407796613402426), (3, 0.15992050393599033), (4, 0.15541949979737957), (5, 0.06403024792327237), (6, 0.4183486031794299), (7, 0.045007373378449185), (8, 0.18913727393566332), (9, 0.06641339282532265), (10, 0.10413115494146216), (11, 0.10825486685420439), (12, 0.15525820361308584), (13, 0.06519736368026895), (14, 0.2067794919463751), (15, 0.06590094883325925), (16, 0.1158324947414227), (17, 0.08493483571495053), (18, 0.08755539750744058), (19, 0.0338354240398617), (20, 0.03669439920511), (21, 0.057670953991595504), (22, 0.07051020376459982), (23, 0.028157675316733372), (24, 0.44250466469710886), (25, 0.06111733364998563), (26, 0.17050232085388733), (27, 0.07454444489391773), (28, 0.040576679631273434), (29, 0.17164557258925867), (30, 0.08175891731909864), (31, 0.05823720551567898), (32, 0.039456211128453836), (33, 0.062362256150244405), (34, 0.20042926732827837), (35, 0.06911419139133088), (36, 0.07004236227439306), (37, 0.08512893119465233), (38, 0.10131103982965058), (39, 0.07020312783143096), (40, 0.054835298970454534), (41, 0.10416136407573433), (42, 0.09152059343376004), (43, 0.11805739848444578), (44, 0.21346240190401625), (45, 0.13526763894677227), (46, 0.25275317994767066), (47, 0.04714735629324888), (48, 0.06651339316310378), (49, 0.12262981745574256), (50, 0.06285727643778377), (51, 0.03892170440717207), (52, 0.0732471238083884), (53, 0.07066850175856085), (54, 0.10446587570116538), (55, 0.06566548092963939)]]\n"
     ]
    }
   ],
   "source": [
    "reviews_tfidf = make_tfidf(reviews_bow)\n",
    "print(lookup_reviews(reviews_tfidf,[0]))"
   ]
  },
  {
   "cell_type": "markdown",
   "metadata": {
    "colab_type": "text",
    "id": "AihWGsKkfnhB"
   },
   "source": [
    "## Reconstructing Data to Dense Form\n",
    "\n",
    "Before we predict ratings from reviews, we need to transform the sparse reviews data to dense matrix form of size NxP. Using the original full dictionary, P=18716; and using the outputs from the topic model, we pick the P = 1000."
   ]
  },
  {
   "cell_type": "markdown",
   "metadata": {
    "colab_type": "text",
    "id": "UdYDJYLg_9fU"
   },
   "source": [
    "### Full Feature Set\n",
    "\n",
    "We first expand the sparse reviews data using the full feature set (reviews_dict). Gensim provides a function corpus2dense() that can allow us to do this more efficiently than the densify() function implemented in HW4. "
   ]
  },
  {
   "cell_type": "code",
   "execution_count": 12,
   "metadata": {
    "colab": {
     "base_uri": "https://localhost:8080/",
     "height": 122
    },
    "colab_type": "code",
    "executionInfo": {
     "elapsed": 27862,
     "status": "ok",
     "timestamp": 1575783563213,
     "user": {
      "displayName": "Yixue Wendy Feng",
      "photoUrl": "",
      "userId": "16498004317624563487"
     },
     "user_tz": 300
    },
    "id": "X_oQo7SK_9fV",
    "outputId": "597c6fb5-1c78-43eb-9b89-38cc17fc4440"
   },
   "outputs": [
    {
     "data": {
      "text/plain": [
       "(100000, 18716)"
      ]
     },
     "execution_count": 12,
     "metadata": {},
     "output_type": "execute_result"
    }
   ],
   "source": [
    "dense_corpus_full = corpus2dense(reviews_tfidf, len(reviews_dict)).T\n",
    "dense_corpus_full.shape"
   ]
  },
  {
   "cell_type": "markdown",
   "metadata": {
    "colab_type": "text",
    "id": "X_gEcpXX_9fX"
   },
   "source": [
    "### Topic Modeling\n",
    "\n",
    "Here we use the LsiModel from gensim used in HW4, to reduce the dimensionality of the data before moving on to prediction. The cutoff is set to be 1000. We can also print out the topics for *fun* (it seems there are a lot to do with pets)."
   ]
  },
  {
   "cell_type": "code",
   "execution_count": 13,
   "metadata": {
    "colab": {
     "base_uri": "https://localhost:8080/",
     "height": 71
    },
    "colab_type": "code",
    "id": "ohItUOye0jCm",
    "outputId": "f75b673f-66b0-4849-d46d-51fe641d62f8"
   },
   "outputs": [],
   "source": [
    "cutoff = 1000\n",
    "tfidf_topic_model = LsiModel(reviews_tfidf, id2word=reviews_dict, num_topics=cutoff)\n",
    "vec_corpus_tfidf = tfidf_topic_model[reviews_tfidf] "
   ]
  },
  {
   "cell_type": "code",
   "execution_count": 14,
   "metadata": {
    "colab": {},
    "colab_type": "code",
    "id": "IJAQmVT9_9fa"
   },
   "outputs": [
    {
     "data": {
      "text/plain": [
       "[(0,\n",
       "  '0.141*\"use\" + 0.136*\"like\" + 0.135*\"one\" + 0.122*\"dog\" + 0.121*\"work\" + 0.120*\"just\" + 0.119*\"size\" + 0.119*\"get\" + 0.115*\"product\" + 0.112*\"fit\"'),\n",
       " (1,\n",
       "  '-0.362*\"shoe\" + -0.315*\"size\" + 0.313*\"dog\" + 0.276*\"cat\" + -0.242*\"fit\" + -0.236*\"wear\" + 0.194*\"toy\" + 0.162*\"food\" + -0.141*\"order\" + -0.141*\"comfort\"'),\n",
       " (2,\n",
       "  '-0.512*\"dog\" + -0.265*\"toy\" + -0.251*\"shoe\" + -0.230*\"cat\" + -0.229*\"size\" + 0.175*\"bottl\" + -0.172*\"treat\" + -0.149*\"food\" + -0.140*\"chew\" + 0.139*\"use\"'),\n",
       " (3,\n",
       "  '-0.739*\"cat\" + 0.424*\"dog\" + -0.237*\"litter\" + -0.186*\"shoe\" + -0.137*\"box\" + 0.120*\"toy\" + 0.110*\"chew\" + -0.101*\"food\" + 0.097*\"seat\" + 0.082*\"babi\"'),\n",
       " (4,\n",
       "  '0.413*\"toy\" + 0.259*\"seat\" + -0.236*\"dog\" + 0.225*\"babi\" + -0.216*\"product\" + 0.198*\"cat\" + 0.183*\"love\" + 0.182*\"play\" + -0.153*\"shoe\" + -0.149*\"food\"')]"
      ]
     },
     "execution_count": 14,
     "metadata": {},
     "output_type": "execute_result"
    }
   ],
   "source": [
    "tfidf_topic_model.print_topics(5)"
   ]
  },
  {
   "cell_type": "markdown",
   "metadata": {},
   "source": [
    "Similar to the previous step, we densify the reduced output from the LSI model to be used for predicting star ratings."
   ]
  },
  {
   "cell_type": "code",
   "execution_count": 15,
   "metadata": {
    "colab": {},
    "colab_type": "code",
    "id": "kJLqgTFwz0K6"
   },
   "outputs": [],
   "source": [
    "dense_corpus = corpus2dense(vec_corpus_tfidf, cutoff).T"
   ]
  },
  {
   "cell_type": "code",
   "execution_count": 16,
   "metadata": {
    "colab": {},
    "colab_type": "code",
    "id": "CBNkE6DB_9fe"
   },
   "outputs": [
    {
     "name": "stdout",
     "output_type": "stream",
     "text": [
      "(100000, 1000) <class 'numpy.ndarray'>\n"
     ]
    }
   ],
   "source": [
    "print(dense_corpus.shape, type(dense_corpus))"
   ]
  },
  {
   "cell_type": "markdown",
   "metadata": {
    "colab_type": "text",
    "id": "gD3ej6Dg_9fi"
   },
   "source": [
    "## Predicting Star Rating"
   ]
  },
  {
   "cell_type": "markdown",
   "metadata": {
    "colab_type": "text",
    "id": "cDVsM2gL_9fi"
   },
   "source": [
    "### Train Val Test Split\n",
    "\n",
    "Sklearn provides a StratifiedShuffleSplit function that split the data into train and test while keeping the class balanced in each split. Although in this dataset, the numbers of reviews for each rating 1-5 are all the same, it's good practice to make sure we have a balanced dataset. "
   ]
  },
  {
   "cell_type": "code",
   "execution_count": 17,
   "metadata": {
    "colab": {},
    "colab_type": "code",
    "id": "88ljjAY5_9fj"
   },
   "outputs": [],
   "source": [
    "from sklearn.model_selection import StratifiedShuffleSplit\n",
    "\n",
    "def train_test_split(X, Y, test_size = 0.2, random_state = 0):\n",
    "    X = [1 for i in range(len(X))]\n",
    "    sss = StratifiedShuffleSplit(test_size = test_size, n_splits = 20, random_state = random_state)\n",
    "    train, test = next(sss.split(X, Y))\n",
    "    return train, test\n",
    "\n",
    "\n",
    "def train_val_test_split(X, Y, n_splits = 10, test_size = 0.2, \n",
    "                         val_size = 0.2, random_state = 0):\n",
    "    '''val_size is the percentage of validation data from the first split'''\n",
    "    train_val, test = train_test_split(X, Y, \n",
    "                                       test_size = test_size, random_state = random_state)\n",
    "    train, val = train_test_split(X[train_val], Y[train_val],\n",
    "                                  test_size = val_size, random_state = 0)\n",
    "    return train, val, test"
   ]
  },
  {
   "cell_type": "code",
   "execution_count": 18,
   "metadata": {
    "colab": {},
    "colab_type": "code",
    "id": "nJ5IBO0h_9ft",
    "outputId": "41f6836a-ade3-4204-fb12-b06dadfe7f33"
   },
   "outputs": [
    {
     "name": "stdout",
     "output_type": "stream",
     "text": [
      "(80000,) (20000,)\n"
     ]
    }
   ],
   "source": [
    "train, test = train_test_split(dense_corpus, ratings, test_size = 0.2,\n",
    "                                   random_state = 0)\n",
    "print(train.shape, test.shape)"
   ]
  },
  {
   "cell_type": "markdown",
   "metadata": {
    "colab_type": "text",
    "id": "8PN7SHWD_9fy"
   },
   "source": [
    "### Random Forest Model\n",
    "\n",
    "Replicate the result from the homework to use as baseline (this model uses) using output from the LsiModel (cutoff=1000)."
   ]
  },
  {
   "cell_type": "code",
   "execution_count": 19,
   "metadata": {
    "colab": {},
    "colab_type": "code",
    "id": "SGIfxGBY_9fy",
    "outputId": "29d3412b-171f-42c1-c78d-3bc0077edae4"
   },
   "outputs": [
    {
     "name": "stdout",
     "output_type": "stream",
     "text": [
      "X_train:  (80000, 1000)\n",
      "Y_train:  (80000,)\n",
      "X_test:  (20000, 1000)\n",
      "Y_test:  (20000,)\n",
      "Counter({2: 16000, 4: 16000, 3: 16000, 5: 16000, 1: 16000})\n",
      "Counter({4: 4000, 1: 4000, 3: 4000, 2: 4000, 5: 4000})\n"
     ]
    }
   ],
   "source": [
    "from sklearn.naive_bayes import GaussianNB\n",
    "from sklearn.svm import SVC\n",
    "from sklearn.ensemble import RandomForestClassifier\n",
    "\n",
    "X_train = dense_corpus[train]\n",
    "Y_train = ratings[train]\n",
    "X_test = dense_corpus[test]\n",
    "Y_test = ratings[test]\n",
    "\n",
    "print(\"X_train: \", X_train.shape)\n",
    "print(\"Y_train: \", Y_train.shape)\n",
    "print(\"X_test: \", X_test.shape)\n",
    "print(\"Y_test: \", Y_test.shape)\n",
    "\n",
    "# Here we use Counter to make sure there are equal number of ratings in each train/test split.\n",
    "print(Counter(Y_train))\n",
    "print(Counter(Y_test))"
   ]
  },
  {
   "cell_type": "code",
   "execution_count": 20,
   "metadata": {
    "colab": {},
    "colab_type": "code",
    "id": "00zyoP5K_9f0"
   },
   "outputs": [],
   "source": [
    "def accuracy (Y_pred, Y_test):\n",
    "    return sum(1 for y1,y2 in zip(Y_test,Y_pred) if y1 == y2) / len(Y_test)"
   ]
  },
  {
   "cell_type": "code",
   "execution_count": 21,
   "metadata": {
    "colab": {},
    "colab_type": "code",
    "id": "KlxY9MAk_9f2",
    "outputId": "91c796f6-2b8f-4815-c179-47c3b61f6b83"
   },
   "outputs": [],
   "source": [
    "# Train the random forest classifier on 1000 components\n",
    "clf = RandomForestClassifier(n_estimators=50)\n",
    "clf.fit(X_train, Y_train)\n",
    "Y_pred = clf.predict(X_test)\n",
    "Y_pred_train = clf.predict(X_train)"
   ]
  },
  {
   "cell_type": "markdown",
   "metadata": {},
   "source": [
    "#### RF Result"
   ]
  },
  {
   "cell_type": "code",
   "execution_count": 22,
   "metadata": {
    "colab": {},
    "colab_type": "code",
    "id": "jDnX4TCN_9f4",
    "outputId": "19df5813-4730-4709-daf9-958fe502ad04"
   },
   "outputs": [
    {
     "name": "stdout",
     "output_type": "stream",
     "text": [
      "Training accuracy:  0.998875\n",
      "Testing accuracy:  0.7704\n",
      "Counter({3: 4477, 4: 4101, 5: 3947, 2: 3918, 1: 3557})\n"
     ]
    }
   ],
   "source": [
    "print(\"Training accuracy: \", accuracy(Y_pred_train, Y_train))\n",
    "print(\"Testing accuracy: \", accuracy(Y_pred, Y_test))\n",
    "print(Counter(Y_pred))"
   ]
  },
  {
   "cell_type": "code",
   "execution_count": 69,
   "metadata": {
    "colab": {},
    "colab_type": "code",
    "id": "25mo9lgn_9f6",
    "outputId": "7829a94c-2d72-4ce4-9851-25003c7a2560"
   },
   "outputs": [
    {
     "name": "stdout",
     "output_type": "stream",
     "text": [
      "              precision    recall  f1-score   support\n",
      "\n",
      "           1       0.89      0.79      0.84      4000\n",
      "           2       0.80      0.78      0.79      4000\n",
      "           3       0.75      0.84      0.79      4000\n",
      "           4       0.68      0.70      0.69      4000\n",
      "           5       0.75      0.74      0.74      4000\n",
      "\n",
      "    accuracy                           0.77     20000\n",
      "   macro avg       0.77      0.77      0.77     20000\n",
      "weighted avg       0.77      0.77      0.77     20000\n",
      "\n"
     ]
    }
   ],
   "source": [
    "from sklearn.metrics import classification_report, confusion_matrix\n",
    "print(classification_report(Y_test, Y_pred))"
   ]
  },
  {
   "cell_type": "markdown",
   "metadata": {},
   "source": [
    "Sklearn classification_report result as shown above allows us to see classification results for each class. F1-scores combines both precision and recall, and we can see that it's highest for class rating=1, which is bad reviews."
   ]
  },
  {
   "cell_type": "code",
   "execution_count": 134,
   "metadata": {},
   "outputs": [
    {
     "data": {
      "text/plain": [
       "array([[3165,  133,  144,  257,  301],\n",
       "       [ 152, 3126,  235,  283,  204],\n",
       "       [  28,  162, 3365,  329,  116],\n",
       "       [  88,  253,  491, 2797,  371],\n",
       "       [ 124,  244,  242,  435, 2955]])"
      ]
     },
     "execution_count": 134,
     "metadata": {},
     "output_type": "execute_result"
    }
   ],
   "source": [
    "conf = confusion_matrix(Y_test, Y_pred)\n",
    "conf"
   ]
  },
  {
   "cell_type": "code",
   "execution_count": 157,
   "metadata": {},
   "outputs": [
    {
     "data": {
      "image/png": "[encoded data removed]",
      "text/plain": [
       "<Figure size 1152x360 with 2 Axes>"
      ]
     },
     "metadata": {},
     "output_type": "display_data"
    }
   ],
   "source": [
    "plt.figure(figsize = (16,5))\n",
    "ax = sns.heatmap(conf, cmap = 'coolwarm', square=True, annot = True, \n",
    "                 fmt='g', xticklabels = range(1,6), yticklabels = range(1,6))\n",
    "ax.xaxis.set_ticks_position('top')"
   ]
  },
  {
   "cell_type": "markdown",
   "metadata": {},
   "source": [
    "We compute the confusion matrix to further investigate the classification. Each row represents the actual class from rating 1-5, and the columns represent the predicted value. For instance, for reviews with actual rating of 1, we misclassified 301 of them as rating of 5. \n",
    "<br /><br />\n",
    "In different classification tasks, we might care about different things. In this case, we don't want a bad product to get a 5-star review because it's highly misleading to consumers, whereas a 5-star product getting a 1 star review is less harmful in comparison."
   ]
  },
  {
   "cell_type": "markdown",
   "metadata": {
    "colab_type": "text",
    "id": "r0Jhyrld_9f7"
   },
   "source": [
    "### Neural Net Approach\n",
    "\n",
    "Here we attempt to use neural net for classification. A neural net is flexible in how we can design its structure. It can be used to reduce dimensionalities of data similar to PCA, but it's also dynamic and can perform non-linear transformation, unlike PCA and many other traditional machine learning methods."
   ]
  },
  {
   "cell_type": "code",
   "execution_count": 24,
   "metadata": {
    "colab": {},
    "colab_type": "code",
    "id": "rETdsw8T_9f8"
   },
   "outputs": [],
   "source": [
    "import torch\n",
    "import torchvision\n",
    "from torch import nn\n",
    "from torch.autograd import Variable\n",
    "from torchvision import transforms\n",
    "from matplotlib.pyplot import figure\n",
    "from torch.utils.data import Dataset, DataLoader"
   ]
  },
  {
   "cell_type": "code",
   "execution_count": 25,
   "metadata": {
    "colab": {},
    "colab_type": "code",
    "id": "zKgl2aja_9f-",
    "outputId": "d4bfc747-4666-40df-8c1f-aceaaeb8be3c"
   },
   "outputs": [
    {
     "data": {
      "text/plain": [
       "device(type='cpu')"
      ]
     },
     "execution_count": 25,
     "metadata": {},
     "output_type": "execute_result"
    }
   ],
   "source": [
    "use_cuda = torch.cuda.is_available()\n",
    "device = torch.device(\"cuda:0\" if use_cuda else \"cpu\")\n",
    "device"
   ]
  },
  {
   "cell_type": "markdown",
   "metadata": {
    "colab_type": "text",
    "id": "7Co8F7ew_9gA"
   },
   "source": [
    "#### Dataloader\n",
    "\n",
    "Torch makes it easy to define our own Dataset class. Since the loss function requires that we label the class [0, n_class-1], we modify the labels when loading the class."
   ]
  },
  {
   "cell_type": "code",
   "execution_count": 26,
   "metadata": {
    "colab": {},
    "colab_type": "code",
    "id": "TnhQUjeY_9gC"
   },
   "outputs": [],
   "source": [
    "class Dataset(Dataset):\n",
    "    def __init__(self, data, labels, transform = None):\n",
    "        self.data = data\n",
    "        self.labels = labels-1\n",
    "        self.transform = transform\n",
    "\n",
    "    def __len__(self):\n",
    "        return len(self.data)\n",
    "\n",
    "    def __getitem__(self, index):\n",
    "        item = self.data[index]\n",
    "        if self.transform is not None:\n",
    "            item = self.transform(item)\n",
    "        return (item, self.labels[index])"
   ]
  },
  {
   "cell_type": "markdown",
   "metadata": {},
   "source": [
    "The batch size is a hyperparameter we can tune. Small batches takes up greater memory, while large batches affect model generalization."
   ]
  },
  {
   "cell_type": "code",
   "execution_count": 27,
   "metadata": {
    "colab": {},
    "colab_type": "code",
    "id": "VZ6ZSkrF_9gG",
    "scrolled": true
   },
   "outputs": [],
   "source": [
    "batch_size = 64\n",
    "\n",
    "train_data = Dataset(X_train, Y_train)\n",
    "val_data = Dataset(X_test, Y_test)\n",
    "\n",
    "train_loader = DataLoader(dataset = train_data, batch_size = batch_size,\n",
    "                              shuffle = True)\n",
    "val_loader = DataLoader(dataset = val_data, batch_size = batch_size,\n",
    "                              shuffle = True)"
   ]
  },
  {
   "cell_type": "markdown",
   "metadata": {
    "colab_type": "text",
    "id": "noc4VtuD_9gJ"
   },
   "source": [
    "#### Defining Neural Net"
   ]
  },
  {
   "cell_type": "markdown",
   "metadata": {},
   "source": [
    "We use 3 linear layers with ReLU activation and a Sigmoid activation after the final layer.\n",
    "The **ReLU activation $y = max(0, x)$ ** is very cheap to compute, can generate a sparse model and converges faster. It's used very often compared to the tanh() activation function."
   ]
  },
  {
   "cell_type": "code",
   "execution_count": 28,
   "metadata": {
    "colab": {},
    "colab_type": "code",
    "id": "xHO-Sfo3_9gJ"
   },
   "outputs": [],
   "source": [
    "class FFNet(nn.Module):\n",
    "    def __init__(self, n = 1000):\n",
    "        super(FFNet, self).__init__()\n",
    "        self.net = nn.Sequential(\n",
    "            nn.Linear(n, 128),\n",
    "            nn.ReLU(),\n",
    "            nn.Linear(128, 64),\n",
    "            nn.ReLU(),\n",
    "            nn.Linear(64, 5),\n",
    "            nn.Sigmoid()\n",
    "        )\n",
    "    def forward(self, x):\n",
    "        x = self.net(x)\n",
    "        return x"
   ]
  },
  {
   "cell_type": "markdown",
   "metadata": {},
   "source": [
    "#### Model Training"
   ]
  },
  {
   "cell_type": "code",
   "execution_count": 29,
   "metadata": {
    "colab": {},
    "colab_type": "code",
    "id": "qnlCcCE1_9gM"
   },
   "outputs": [],
   "source": [
    "def train_model(model, loss_fn, epochs, train_loader, val_loader, optimizer):\n",
    "\n",
    "    train_accuracies = []; val_accuracies = []\n",
    "    train_losses = []; val_losses = []\n",
    "\n",
    "    model = model.to(device)\n",
    "    loss_fn = loss_fn.cuda(device)\n",
    "  \n",
    "    for epoch in range(epochs):\n",
    "        correct = 0.0\n",
    "        cum_loss = 0.0\n",
    "        \n",
    "        #Training\n",
    "        for (i, (inputs, labels)) in enumerate(train_loader):\n",
    "            inputs = inputs.to(device)\n",
    "            labels = labels.to(device)\n",
    "\n",
    "            pred = model(inputs)\n",
    "            loss = loss_fn(pred, labels)\n",
    "\n",
    "            _, max_labels = pred.max(1)\n",
    "            correct += (max_labels == labels).sum().item()\n",
    "            cum_loss += loss.item()\n",
    "\n",
    "            optimizer.zero_grad()\n",
    "            loss.backward()\n",
    "            optimizer.step()\n",
    "\n",
    "            if (i + 1) % 300 == 0:\n",
    "                print('Train-epoch %d. Iteration %05d, Avg-Loss: %.4f, Accuracy: %.4f' % \n",
    "                    (epoch, i + 1, cum_loss / (i + 1), correct / ((i + 1) * batch_size)))\n",
    "\n",
    "        train_accuracies.append(correct / len(train))\n",
    "        train_losses.append(cum_loss / (i + 1))   \n",
    "\n",
    "        # Validation.\n",
    "        correct = 0.0\n",
    "        cum_loss = 0.0\n",
    "        model.eval()\n",
    "        for (i, (inputs, labels)) in enumerate(val_loader):\n",
    "            inputs = inputs.to(device)\n",
    "            labels = labels.to(device)\n",
    "\n",
    "            pred = model(inputs)\n",
    "            cum_loss += loss_fn(pred, labels).item()\n",
    "\n",
    "            _, max_labels = pred.max(1)\n",
    "            correct += (max_labels == labels).sum().item()\n",
    "\n",
    "        val_accuracies.append(correct / len(test))\n",
    "        val_losses.append(cum_loss / (i + 1))\n",
    "\n",
    "        # Logging the current results on validation.\n",
    "        print('Validation-epoch %d. Avg-Loss: %.4f, Accuracy: %.4f' % \n",
    "            (epoch, cum_loss / (i + 1), correct / len(test)))\n",
    "        \n",
    "    return model, train_accuracies, train_losses, val_accuracies, val_losses"
   ]
  },
  {
   "cell_type": "markdown",
   "metadata": {},
   "source": [
    "Below, we define the epochs to train for and learning rate. We use a **CrossEntropyLoss** as our loss function. It's often used in classification problem with multiple classes. The losses are averaged across observations for each minibatch.\n",
    "<br />\n",
    "We also use is the **Adam optimizer**, which is an adaptive learning rate optimizer algorithm that find individual learning rates for each parameter.\n",
    "<br /><br />\n",
    "We print out the average loss and accuracy for every 300 mini-batches in training, and every epoch in validation."
   ]
  },
  {
   "cell_type": "code",
   "execution_count": 30,
   "metadata": {
    "colab": {},
    "colab_type": "code",
    "id": "0wEs556F_9gO",
    "outputId": "cceeb5c5-ea17-4979-e78e-eb6940f0c8d6",
    "scrolled": true
   },
   "outputs": [
    {
     "name": "stdout",
     "output_type": "stream",
     "text": [
      "Train-epoch 0. Iteration 00300, Avg-Loss: 1.6084, Accuracy: 0.2290\n",
      "Train-epoch 0. Iteration 00600, Avg-Loss: 1.6002, Accuracy: 0.3182\n",
      "Train-epoch 0. Iteration 00900, Avg-Loss: 1.5754, Accuracy: 0.4524\n",
      "Train-epoch 0. Iteration 01200, Avg-Loss: 1.5368, Accuracy: 0.5328\n",
      "Validation-epoch 0. Avg-Loss: 1.3608, Accuracy: 0.8046\n",
      "Train-epoch 1. Iteration 00300, Avg-Loss: 1.3204, Accuracy: 0.8229\n",
      "Train-epoch 1. Iteration 00600, Avg-Loss: 1.2923, Accuracy: 0.8264\n",
      "Train-epoch 1. Iteration 00900, Avg-Loss: 1.2683, Accuracy: 0.8303\n",
      "Train-epoch 1. Iteration 01200, Avg-Loss: 1.2472, Accuracy: 0.8329\n",
      "Validation-epoch 1. Avg-Loss: 1.1644, Accuracy: 0.8349\n",
      "Train-epoch 2. Iteration 00300, Avg-Loss: 1.1452, Accuracy: 0.8476\n",
      "Train-epoch 2. Iteration 00600, Avg-Loss: 1.1351, Accuracy: 0.8479\n",
      "Train-epoch 2. Iteration 00900, Avg-Loss: 1.1273, Accuracy: 0.8476\n",
      "Train-epoch 2. Iteration 01200, Avg-Loss: 1.1199, Accuracy: 0.8485\n",
      "Validation-epoch 2. Avg-Loss: 1.0962, Accuracy: 0.8434\n",
      "Train-epoch 3. Iteration 00300, Avg-Loss: 1.0831, Accuracy: 0.8592\n",
      "Train-epoch 3. Iteration 00600, Avg-Loss: 1.0799, Accuracy: 0.8575\n",
      "Train-epoch 3. Iteration 00900, Avg-Loss: 1.0772, Accuracy: 0.8577\n",
      "Train-epoch 3. Iteration 01200, Avg-Loss: 1.0754, Accuracy: 0.8567\n",
      "Validation-epoch 3. Avg-Loss: 1.0704, Accuracy: 0.8493\n",
      "Train-epoch 4. Iteration 00300, Avg-Loss: 1.0605, Accuracy: 0.8618\n",
      "Train-epoch 4. Iteration 00600, Avg-Loss: 1.0592, Accuracy: 0.8617\n",
      "Train-epoch 4. Iteration 00900, Avg-Loss: 1.0570, Accuracy: 0.8626\n",
      "Train-epoch 4. Iteration 01200, Avg-Loss: 1.0558, Accuracy: 0.8624\n",
      "Validation-epoch 4. Avg-Loss: 1.0582, Accuracy: 0.8528\n",
      "Train-epoch 5. Iteration 00300, Avg-Loss: 1.0487, Accuracy: 0.8643\n",
      "Train-epoch 5. Iteration 00600, Avg-Loss: 1.0488, Accuracy: 0.8636\n",
      "Train-epoch 5. Iteration 00900, Avg-Loss: 1.0466, Accuracy: 0.8656\n",
      "Train-epoch 5. Iteration 01200, Avg-Loss: 1.0461, Accuracy: 0.8653\n",
      "Validation-epoch 5. Avg-Loss: 1.0515, Accuracy: 0.8538\n",
      "Train-epoch 6. Iteration 00300, Avg-Loss: 1.0391, Accuracy: 0.8698\n",
      "Train-epoch 6. Iteration 00600, Avg-Loss: 1.0398, Accuracy: 0.8687\n",
      "Train-epoch 6. Iteration 00900, Avg-Loss: 1.0394, Accuracy: 0.8683\n",
      "Train-epoch 6. Iteration 01200, Avg-Loss: 1.0395, Accuracy: 0.8673\n",
      "Validation-epoch 6. Avg-Loss: 1.0477, Accuracy: 0.8541\n",
      "Train-epoch 7. Iteration 00300, Avg-Loss: 1.0355, Accuracy: 0.8723\n",
      "Train-epoch 7. Iteration 00600, Avg-Loss: 1.0353, Accuracy: 0.8703\n",
      "Train-epoch 7. Iteration 00900, Avg-Loss: 1.0352, Accuracy: 0.8695\n",
      "Train-epoch 7. Iteration 01200, Avg-Loss: 1.0350, Accuracy: 0.8694\n",
      "Validation-epoch 7. Avg-Loss: 1.0450, Accuracy: 0.8557\n",
      "Train-epoch 8. Iteration 00300, Avg-Loss: 1.0293, Accuracy: 0.8748\n",
      "Train-epoch 8. Iteration 00600, Avg-Loss: 1.0323, Accuracy: 0.8700\n",
      "Train-epoch 8. Iteration 00900, Avg-Loss: 1.0323, Accuracy: 0.8701\n",
      "Train-epoch 8. Iteration 01200, Avg-Loss: 1.0321, Accuracy: 0.8699\n",
      "Validation-epoch 8. Avg-Loss: 1.0434, Accuracy: 0.8564\n",
      "Train-epoch 9. Iteration 00300, Avg-Loss: 1.0262, Accuracy: 0.8764\n",
      "Train-epoch 9. Iteration 00600, Avg-Loss: 1.0271, Accuracy: 0.8745\n",
      "Train-epoch 9. Iteration 00900, Avg-Loss: 1.0294, Accuracy: 0.8718\n",
      "Train-epoch 9. Iteration 01200, Avg-Loss: 1.0294, Accuracy: 0.8713\n",
      "Validation-epoch 9. Avg-Loss: 1.0420, Accuracy: 0.8570\n",
      "Train-epoch 10. Iteration 00300, Avg-Loss: 1.0249, Accuracy: 0.8759\n",
      "Train-epoch 10. Iteration 00600, Avg-Loss: 1.0269, Accuracy: 0.8731\n",
      "Train-epoch 10. Iteration 00900, Avg-Loss: 1.0275, Accuracy: 0.8727\n",
      "Train-epoch 10. Iteration 01200, Avg-Loss: 1.0271, Accuracy: 0.8724\n",
      "Validation-epoch 10. Avg-Loss: 1.0411, Accuracy: 0.8567\n",
      "Train-epoch 11. Iteration 00300, Avg-Loss: 1.0265, Accuracy: 0.8729\n",
      "Train-epoch 11. Iteration 00600, Avg-Loss: 1.0261, Accuracy: 0.8729\n",
      "Train-epoch 11. Iteration 00900, Avg-Loss: 1.0252, Accuracy: 0.8736\n",
      "Train-epoch 11. Iteration 01200, Avg-Loss: 1.0258, Accuracy: 0.8728\n",
      "Validation-epoch 11. Avg-Loss: 1.0403, Accuracy: 0.8577\n",
      "Train-epoch 12. Iteration 00300, Avg-Loss: 1.0225, Accuracy: 0.8787\n",
      "Train-epoch 12. Iteration 00600, Avg-Loss: 1.0220, Accuracy: 0.8766\n",
      "Train-epoch 12. Iteration 00900, Avg-Loss: 1.0240, Accuracy: 0.8746\n",
      "Train-epoch 12. Iteration 01200, Avg-Loss: 1.0245, Accuracy: 0.8738\n",
      "Validation-epoch 12. Avg-Loss: 1.0398, Accuracy: 0.8575\n",
      "Train-epoch 13. Iteration 00300, Avg-Loss: 1.0218, Accuracy: 0.8764\n",
      "Train-epoch 13. Iteration 00600, Avg-Loss: 1.0219, Accuracy: 0.8761\n",
      "Train-epoch 13. Iteration 00900, Avg-Loss: 1.0226, Accuracy: 0.8749\n",
      "Train-epoch 13. Iteration 01200, Avg-Loss: 1.0227, Accuracy: 0.8749\n",
      "Validation-epoch 13. Avg-Loss: 1.0391, Accuracy: 0.8576\n",
      "Train-epoch 14. Iteration 00300, Avg-Loss: 1.0219, Accuracy: 0.8750\n",
      "Train-epoch 14. Iteration 00600, Avg-Loss: 1.0215, Accuracy: 0.8749\n",
      "Train-epoch 14. Iteration 00900, Avg-Loss: 1.0213, Accuracy: 0.8752\n",
      "Train-epoch 14. Iteration 01200, Avg-Loss: 1.0216, Accuracy: 0.8751\n",
      "Validation-epoch 14. Avg-Loss: 1.0388, Accuracy: 0.8571\n",
      "Train-epoch 15. Iteration 00300, Avg-Loss: 1.0200, Accuracy: 0.8762\n",
      "Train-epoch 15. Iteration 00600, Avg-Loss: 1.0201, Accuracy: 0.8759\n",
      "Train-epoch 15. Iteration 00900, Avg-Loss: 1.0206, Accuracy: 0.8759\n",
      "Train-epoch 15. Iteration 01200, Avg-Loss: 1.0210, Accuracy: 0.8749\n",
      "Validation-epoch 15. Avg-Loss: 1.0382, Accuracy: 0.8572\n",
      "Train-epoch 16. Iteration 00300, Avg-Loss: 1.0194, Accuracy: 0.8756\n",
      "Train-epoch 16. Iteration 00600, Avg-Loss: 1.0177, Accuracy: 0.8776\n",
      "Train-epoch 16. Iteration 00900, Avg-Loss: 1.0188, Accuracy: 0.8762\n",
      "Train-epoch 16. Iteration 01200, Avg-Loss: 1.0197, Accuracy: 0.8754\n",
      "Validation-epoch 16. Avg-Loss: 1.0380, Accuracy: 0.8569\n",
      "Train-epoch 17. Iteration 00300, Avg-Loss: 1.0199, Accuracy: 0.8772\n",
      "Train-epoch 17. Iteration 00600, Avg-Loss: 1.0201, Accuracy: 0.8752\n",
      "Train-epoch 17. Iteration 00900, Avg-Loss: 1.0193, Accuracy: 0.8759\n",
      "Train-epoch 17. Iteration 01200, Avg-Loss: 1.0189, Accuracy: 0.8762\n",
      "Validation-epoch 17. Avg-Loss: 1.0379, Accuracy: 0.8568\n",
      "Train-epoch 18. Iteration 00300, Avg-Loss: 1.0166, Accuracy: 0.8788\n",
      "Train-epoch 18. Iteration 00600, Avg-Loss: 1.0190, Accuracy: 0.8756\n",
      "Train-epoch 18. Iteration 00900, Avg-Loss: 1.0181, Accuracy: 0.8760\n",
      "Train-epoch 18. Iteration 01200, Avg-Loss: 1.0180, Accuracy: 0.8761\n",
      "Validation-epoch 18. Avg-Loss: 1.0379, Accuracy: 0.8570\n",
      "Train-epoch 19. Iteration 00300, Avg-Loss: 1.0150, Accuracy: 0.8789\n",
      "Train-epoch 19. Iteration 00600, Avg-Loss: 1.0156, Accuracy: 0.8788\n",
      "Train-epoch 19. Iteration 00900, Avg-Loss: 1.0165, Accuracy: 0.8771\n",
      "Train-epoch 19. Iteration 01200, Avg-Loss: 1.0171, Accuracy: 0.8767\n",
      "Validation-epoch 19. Avg-Loss: 1.0374, Accuracy: 0.8568\n"
     ]
    }
   ],
   "source": [
    "num_epochs = 20\n",
    "learning_rate = 1e-4\n",
    "\n",
    "model = FFNet(n = cutoff)\n",
    "criterion = nn.CrossEntropyLoss() \n",
    "optimizer = torch.optim.Adam(model.parameters(), lr=learning_rate)\n",
    "\n",
    "trained_model, train_acc, train_loss, val_acc, val_loss = train_model(model, criterion, \n",
    "                                                    num_epochs, \n",
    "                                                    train_loader, val_loader, optimizer)\n"
   ]
  },
  {
   "cell_type": "markdown",
   "metadata": {},
   "source": [
    "#### Neural Net Results"
   ]
  },
  {
   "cell_type": "markdown",
   "metadata": {},
   "source": [
    "We plot both the accuracy and loss for training and validation for the 20 epochs we trained on. The model seems to converge after 8-10 epochs. The testing loss is not significant larger than training, which suggests that the model generalizes fairly well."
   ]
  },
  {
   "cell_type": "code",
   "execution_count": 116,
   "metadata": {
    "colab": {},
    "colab_type": "code",
    "id": "IqDEg7vM_9gU",
    "outputId": "d074cabb-cf9c-4188-9880-c83169937e8d"
   },
   "outputs": [
    {
     "data": {
      "text/plain": [
       "<matplotlib.legend.Legend at 0x1505593c8>"
      ]
     },
     "execution_count": 116,
     "metadata": {},
     "output_type": "execute_result"
    },
    {
     "data": {
      "image/png": "[encoded data removed]",
      "text/plain": [
       "<Figure size 432x288 with 1 Axes>"
      ]
     },
     "metadata": {},
     "output_type": "display_data"
    }
   ],
   "source": [
    "plt.figure()\n",
    "plt.title(\"Accuracy vs. Epoch\")\n",
    "plt.plot(range(num_epochs), train_acc, color = \"b\", label = \"train\")\n",
    "plt.plot(range(num_epochs), val_acc, color = \"r\", label = \"test\")\n",
    "plt.legend(loc='lower right')"
   ]
  },
  {
   "cell_type": "code",
   "execution_count": 32,
   "metadata": {
    "colab": {},
    "colab_type": "code",
    "id": "ZDH32q5H_9gX",
    "outputId": "3db9ad8b-4953-4e43-9a01-ed2eefebd1cf"
   },
   "outputs": [
    {
     "data": {
      "text/plain": [
       "<matplotlib.legend.Legend at 0x11bafc908>"
      ]
     },
     "execution_count": 32,
     "metadata": {},
     "output_type": "execute_result"
    },
    {
     "data": {
      "image/png": "[encoded data removed]",
      "text/plain": [
       "<Figure size 432x288 with 1 Axes>"
      ]
     },
     "metadata": {},
     "output_type": "display_data"
    }
   ],
   "source": [
    "plt.figure()\n",
    "plt.title(\"Loss vs. Epoch\")\n",
    "plt.plot(range(num_epochs), train_loss, color = \"g\", label = \"train\")\n",
    "plt.plot(range(num_epochs), val_loss, color = \"y\", label = \"test\")\n",
    "plt.legend(loc='upper right')"
   ]
  },
  {
   "cell_type": "markdown",
   "metadata": {},
   "source": [
    "Now let's look at the rating predictions from the neural net. We do a similar analysis as we did for the RandomForest model."
   ]
  },
  {
   "cell_type": "code",
   "execution_count": 130,
   "metadata": {},
   "outputs": [
    {
     "data": {
      "text/plain": [
       "Counter({1: 3872, 2: 3908, 3: 4262, 4: 3957, 5: 4001})"
      ]
     },
     "execution_count": 130,
     "metadata": {},
     "output_type": "execute_result"
    }
   ],
   "source": [
    "output_test = trained_model(torch.Tensor(X_test)).detach().numpy()\n",
    "Y_pred_nn = output_test.argmax(axis=1)+1\n",
    "Counter(Y_pred_nn)"
   ]
  },
  {
   "cell_type": "code",
   "execution_count": 144,
   "metadata": {},
   "outputs": [
    {
     "name": "stdout",
     "output_type": "stream",
     "text": [
      "              precision    recall  f1-score   support\n",
      "\n",
      "           1       0.93      0.90      0.91      4000\n",
      "           2       0.89      0.87      0.88      4000\n",
      "           3       0.84      0.89      0.86      4000\n",
      "           4       0.81      0.80      0.81      4000\n",
      "           5       0.82      0.82      0.82      4000\n",
      "\n",
      "    accuracy                           0.86     20000\n",
      "   macro avg       0.86      0.86      0.86     20000\n",
      "weighted avg       0.86      0.86      0.86     20000\n",
      "\n"
     ]
    }
   ],
   "source": [
    "from sklearn.metrics import classification_report, confusion_matrix\n",
    "print(classification_report(Y_test, Y_pred_nn))"
   ]
  },
  {
   "cell_type": "code",
   "execution_count": 147,
   "metadata": {},
   "outputs": [
    {
     "data": {
      "text/plain": [
       "array([[3586,   75,   50,  117,  172],\n",
       "       [  84, 3476,  140,  144,  156],\n",
       "       [  22,  102, 3567,  200,  109],\n",
       "       [  65,  115,  342, 3212,  266],\n",
       "       [ 115,  140,  163,  284, 3298]])"
      ]
     },
     "execution_count": 147,
     "metadata": {},
     "output_type": "execute_result"
    }
   ],
   "source": [
    "conf_nn = confusion_matrix(Y_test, Y_pred_nn)\n",
    "conf_nn"
   ]
  },
  {
   "cell_type": "code",
   "execution_count": 156,
   "metadata": {},
   "outputs": [
    {
     "data": {
      "image/png": "[encoded data removed]",
      "text/plain": [
       "<Figure size 1152x360 with 2 Axes>"
      ]
     },
     "metadata": {},
     "output_type": "display_data"
    }
   ],
   "source": [
    "plt.figure(figsize = (16,5))\n",
    "ax = sns.heatmap(conf_nn, cmap = 'coolwarm', square=True, annot = True, \n",
    "                 fmt='g', xticklabels = range(1,6), yticklabels = range(1,6))\n",
    "ax.xaxis.set_ticks_position('top')"
   ]
  },
  {
   "cell_type": "markdown",
   "metadata": {},
   "source": [
    "We can see that the neural net performs much better than the random forest model in terms of accuracy, precision and recall. However they both seem to predict low ratings better than high ratings. It could be because the bad reviews have more distinct features, where as neutral and good reviews are hard to distinguish."
   ]
  },
  {
   "cell_type": "markdown",
   "metadata": {
    "colab_type": "text",
    "id": "ugsO-H7p_9gZ"
   },
   "source": [
    "#### Neural Net On Full Feature Set\n",
    "\n",
    "Previously we use the outputs from the topic models (P = 1000) to predict star ratings. Now let's do another experiment using the same neural net to predict ratings from the full data set (P=18716, dense version of reviews bow, without TFIDF or LSI model)."
   ]
  },
  {
   "cell_type": "code",
   "execution_count": 128,
   "metadata": {
    "colab": {},
    "colab_type": "code",
    "id": "B0N1gyxM_9gZ",
    "outputId": "25d21d43-ab2e-4d96-e867-e39a9d71c95a"
   },
   "outputs": [
    {
     "name": "stdout",
     "output_type": "stream",
     "text": [
      "X_train:  (80000, 18716)\n",
      "Y_train:  (80000,)\n",
      "X_test:  (20000, 18716)\n",
      "Y_test:  (20000,)\n"
     ]
    }
   ],
   "source": [
    "X_train_full = dense_corpus_full[train]\n",
    "Y_train = ratings[train]\n",
    "X_test_full = dense_corpus_full[test]\n",
    "Y_test = ratings[test]\n",
    "print(\"X_train: \", X_train_full.shape)\n",
    "print(\"Y_train: \", Y_train.shape)\n",
    "print(\"X_test: \", X_test_full.shape)\n",
    "print(\"Y_test: \", Y_test.shape)"
   ]
  },
  {
   "cell_type": "code",
   "execution_count": 129,
   "metadata": {
    "colab": {},
    "colab_type": "code",
    "id": "7e3RCV1o_9gb"
   },
   "outputs": [],
   "source": [
    "batch_size = 64\n",
    "\n",
    "train_data_full = Dataset(X_train_full, Y_train)\n",
    "val_data_full = Dataset(X_test_full, Y_test)\n",
    "\n",
    "train_loader_full = DataLoader(dataset = train_data_full, batch_size = batch_size,\n",
    "                              shuffle = True)\n",
    "val_loader_full = DataLoader(dataset = val_data_full, batch_size = batch_size,\n",
    "                              shuffle = True)"
   ]
  },
  {
   "cell_type": "code",
   "execution_count": 130,
   "metadata": {
    "colab": {},
    "colab_type": "code",
    "id": "5_nDokdT_9gd",
    "outputId": "a22ee819-f0b0-4803-fc30-71a56ca51c8b"
   },
   "outputs": [
    {
     "name": "stdout",
     "output_type": "stream",
     "text": [
      "Train-epoch 0. Iteration 00300, Avg-Loss: 1.6059, Accuracy: 0.2942\n",
      "Train-epoch 0. Iteration 00600, Avg-Loss: 1.5827, Accuracy: 0.4865\n",
      "Train-epoch 0. Iteration 00900, Avg-Loss: 1.5317, Accuracy: 0.5818\n",
      "Train-epoch 0. Iteration 01200, Avg-Loss: 1.4740, Accuracy: 0.6385\n",
      "Validation-epoch 0. Avg-Loss: 1.2276, Accuracy: 0.8413\n",
      "Train-epoch 1. Iteration 00300, Avg-Loss: 1.1829, Accuracy: 0.8548\n",
      "Train-epoch 1. Iteration 00600, Avg-Loss: 1.1560, Accuracy: 0.8591\n",
      "Train-epoch 1. Iteration 00900, Avg-Loss: 1.1360, Accuracy: 0.8625\n",
      "Train-epoch 1. Iteration 01200, Avg-Loss: 1.1219, Accuracy: 0.8635\n",
      "Validation-epoch 1. Avg-Loss: 1.0717, Accuracy: 0.8668\n",
      "Train-epoch 2. Iteration 00300, Avg-Loss: 1.0512, Accuracy: 0.8860\n",
      "Train-epoch 2. Iteration 00600, Avg-Loss: 1.0468, Accuracy: 0.8865\n",
      "Train-epoch 2. Iteration 00900, Avg-Loss: 1.0443, Accuracy: 0.8859\n",
      "Train-epoch 2. Iteration 01200, Avg-Loss: 1.0410, Accuracy: 0.8867\n",
      "Validation-epoch 2. Avg-Loss: 1.0408, Accuracy: 0.8744\n",
      "Train-epoch 3. Iteration 00300, Avg-Loss: 1.0186, Accuracy: 0.8999\n",
      "Train-epoch 3. Iteration 00600, Avg-Loss: 1.0159, Accuracy: 0.9025\n",
      "Train-epoch 3. Iteration 00900, Avg-Loss: 1.0157, Accuracy: 0.9009\n",
      "Train-epoch 3. Iteration 01200, Avg-Loss: 1.0147, Accuracy: 0.9010\n",
      "Validation-epoch 3. Avg-Loss: 1.0287, Accuracy: 0.8794\n",
      "Train-epoch 4. Iteration 00300, Avg-Loss: 1.0021, Accuracy: 0.9094\n",
      "Train-epoch 4. Iteration 00600, Avg-Loss: 1.0005, Accuracy: 0.9105\n",
      "Train-epoch 4. Iteration 00900, Avg-Loss: 0.9998, Accuracy: 0.9109\n",
      "Train-epoch 4. Iteration 01200, Avg-Loss: 1.0000, Accuracy: 0.9101\n",
      "Validation-epoch 4. Avg-Loss: 1.0227, Accuracy: 0.8811\n",
      "Train-epoch 5. Iteration 00300, Avg-Loss: 0.9872, Accuracy: 0.9222\n",
      "Train-epoch 5. Iteration 00600, Avg-Loss: 0.9885, Accuracy: 0.9193\n",
      "Train-epoch 5. Iteration 00900, Avg-Loss: 0.9889, Accuracy: 0.9186\n",
      "Train-epoch 5. Iteration 01200, Avg-Loss: 0.9895, Accuracy: 0.9179\n",
      "Validation-epoch 5. Avg-Loss: 1.0200, Accuracy: 0.8806\n",
      "Train-epoch 6. Iteration 00300, Avg-Loss: 0.9806, Accuracy: 0.9260\n",
      "Train-epoch 6. Iteration 00600, Avg-Loss: 0.9809, Accuracy: 0.9263\n",
      "Train-epoch 6. Iteration 00900, Avg-Loss: 0.9819, Accuracy: 0.9240\n",
      "Train-epoch 6. Iteration 01200, Avg-Loss: 0.9818, Accuracy: 0.9237\n",
      "Validation-epoch 6. Avg-Loss: 1.0182, Accuracy: 0.8799\n",
      "Train-epoch 7. Iteration 00300, Avg-Loss: 0.9761, Accuracy: 0.9296\n",
      "Train-epoch 7. Iteration 00600, Avg-Loss: 0.9756, Accuracy: 0.9287\n",
      "Train-epoch 7. Iteration 00900, Avg-Loss: 0.9760, Accuracy: 0.9280\n",
      "Train-epoch 7. Iteration 01200, Avg-Loss: 0.9756, Accuracy: 0.9286\n",
      "Validation-epoch 7. Avg-Loss: 1.0180, Accuracy: 0.8798\n",
      "Train-epoch 8. Iteration 00300, Avg-Loss: 0.9716, Accuracy: 0.9313\n",
      "Train-epoch 8. Iteration 00600, Avg-Loss: 0.9711, Accuracy: 0.9323\n",
      "Train-epoch 8. Iteration 00900, Avg-Loss: 0.9712, Accuracy: 0.9315\n",
      "Train-epoch 8. Iteration 01200, Avg-Loss: 0.9707, Accuracy: 0.9324\n",
      "Validation-epoch 8. Avg-Loss: 1.0181, Accuracy: 0.8790\n",
      "Train-epoch 9. Iteration 00300, Avg-Loss: 0.9660, Accuracy: 0.9367\n",
      "Train-epoch 9. Iteration 00600, Avg-Loss: 0.9653, Accuracy: 0.9376\n",
      "Train-epoch 9. Iteration 00900, Avg-Loss: 0.9663, Accuracy: 0.9359\n",
      "Train-epoch 9. Iteration 01200, Avg-Loss: 0.9662, Accuracy: 0.9359\n",
      "Validation-epoch 9. Avg-Loss: 1.0187, Accuracy: 0.8781\n"
     ]
    }
   ],
   "source": [
    "num_epochs = 10\n",
    "learning_rate = 1e-4\n",
    "\n",
    "model = FFNet(n = len(reviews_dict))\n",
    "criterion = nn.CrossEntropyLoss() \n",
    "optimizer = torch.optim.Adam(model.parameters(), lr=learning_rate)\n",
    "\n",
    "trained_model_full, train_acc, train_loss, val_acc, val_loss = train_model(model, criterion, \n",
    "                                                    num_epochs, train_loader_full, \n",
    "                                                    val_loader_full, optimizer)"
   ]
  },
  {
   "cell_type": "markdown",
   "metadata": {},
   "source": [
    "We can see that training the neural net on the full feature set (P = 18716) only yields a slightly better accuracy compared to reduced output from the topic model (P = 1000) but with drastically different training time. The previous models takes less than 2 mins to train 20 epochs. However the full feature set took more than 30 mins to training only 10 epochs. So we can conclude that reducing the dimensions of the data using topic model is helpful in predicting star rating."
   ]
  }
 ],
 "metadata": {
  "accelerator": "GPU",
  "colab": {
   "machine_shape": "hm",
   "name": "cis545_project.ipynb",
   "provenance": [],
   "toc_visible": true
  },
  "kernelspec": {
   "display_name": "Python 3",
   "language": "python",
   "name": "python3"
  },
  "language_info": {
   "codemirror_mode": {
    "name": "ipython",
    "version": 3
   },
   "file_extension": ".py",
   "mimetype": "text/x-python",
   "name": "python",
   "nbconvert_exporter": "python",
   "pygments_lexer": "ipython3",
   "version": "3.6.4"
  },
  "toc": {
   "base_numbering": 1,
   "nav_menu": {},
   "number_sections": false,
   "sideBar": true,
   "skip_h1_title": false,
   "title_cell": "Table of Contents",
   "title_sidebar": "Contents",
   "toc_cell": false,
   "toc_position": {
    "height": "calc(100% - 180px)",
    "left": "10px",
    "top": "150px",
    "width": "229px"
   },
   "toc_section_display": true,
   "toc_window_display": true
  }
 },
 "nbformat": 4,
 "nbformat_minor": 1
}
